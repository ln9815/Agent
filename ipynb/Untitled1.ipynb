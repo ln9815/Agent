{
 "cells": [
  {
   "cell_type": "code",
   "execution_count": 21,
   "id": "730a6580-b216-4416-ab8f-a7dfd62752b0",
   "metadata": {},
   "outputs": [
    {
     "name": "stdout",
     "output_type": "stream",
     "text": [
      "https://q.10jqka.com.cn/zs/detail/code/399006/\n"
     ]
    }
   ],
   "source": [
    "from typing import List, Dict, Any, Optional, Tuple\n",
    "import requests\n",
    "from thx.thx_helper import process_stock_data_all,extract_json_from_js\n",
    "from thx.thx_tool import BASE_URL\n",
    "import logging\n",
    "import pandas as pd\n",
    "import talib\n",
    "logger = logging.getLogger(__name__)\n",
    "\n",
    "HEADERS = {\n",
    "    'User-Agent': 'Mozilla/5.0 (Macintosh; Intel Mac OS X 10_15_7) AppleWebKit/537.36 (KHTML, like Gecko) Chrome/136.0.0.0 Safari/537.36',\n",
    "    'X-Requested-With': 'XMLHttpRequest'\n",
    "}\n",
    "def _make_request(url: str, timeout: int = 10, headers: Dict[str, str] = {},**argv) -> Optional[Dict]:\n",
    "    \"\"\"发送HTTP请求并提取JSON数据\"\"\"\n",
    "    try:\n",
    "        print(url)\n",
    "        common_header = HEADERS.copy()\n",
    "        if headers:\n",
    "            common_header.update(headers)\n",
    "        response = requests.get(url, headers=common_header, timeout=timeout,**argv)\n",
    "        response.raise_for_status()\n",
    "        return response\n",
    "    except requests.RequestException as e:\n",
    "        logger.error(f\"请求失败 {url}: {e}\")\n",
    "        return None\n",
    "url = 'https://q.10jqka.com.cn/zs/detail/code/1A0001/'\n",
    "url = 'https://q.10jqka.com.cn/zs/detail/code/399001/'\n",
    "url = 'https://q.10jqka.com.cn/zs/detail/code/399300/'\n",
    "url = 'https://q.10jqka.com.cn/zs/detail/code/399006/'\n",
    "response = _make_request(url)"
   ]
  },
  {
   "cell_type": "code",
   "execution_count": 22,
   "id": "8d830171-77aa-40d9-bdef-37491cd37c1f",
   "metadata": {},
   "outputs": [],
   "source": [
    "from bs4 import BeautifulSoup\n",
    "\n",
    "def extract_stock_data_hs(response):\n",
    "    \"\"\"\n",
    "    从响应对象中提取股票指数数据\n",
    "    \n",
    "    参数:\n",
    "        response: 包含HTML内容的响应对象，需有text属性\n",
    "        \n",
    "    返回:\n",
    "        dict: 包含股票指数各类数据的字典\n",
    "    \"\"\"\n",
    "    # 创建BeautifulSoup对象\n",
    "    soup = BeautifulSoup(response.text, 'html.parser')\n",
    "    \n",
    "    # 定位到board-hq容器并提取数据\n",
    "    board_hq = soup.find('div', class_='board-hq')\n",
    "    if not board_hq:\n",
    "        raise ValueError(\"未找到class为'board-hq'的div元素\")\n",
    "    \n",
    "    # 提取指数名称和代码\n",
    "    h3_tag = board_hq.find('h3')\n",
    "    index_name = h3_tag.contents[0].strip()\n",
    "    index_code = h3_tag.find('span').get_text(strip=True)\n",
    "    \n",
    "    # 提取当前值\n",
    "    current_value = board_hq.find('span', class_='board-xj').get_text(strip=True)\n",
    "    \n",
    "    # 处理涨跌数据\n",
    "    zdf_text = board_hq.find('p', class_='board-zdf').get_text(strip=True)\n",
    "    zdf_parts = zdf_text.split()\n",
    "    change = zdf_parts[0]\n",
    "    \n",
    "    # 构建基础结果字典\n",
    "    result = {\n",
    "        '指数名称': index_name,\n",
    "        '指数代码': index_code,\n",
    "        '当前指数': float(current_value),\n",
    "        '涨跌': float(change),\n",
    "    }\n",
    "    \n",
    "    # 提取board-infos中的详细数据\n",
    "    board_infos = soup.find('div', class_='board-infos')\n",
    "    if not board_infos:\n",
    "        raise ValueError(\"未找到class为'board-infos'的div元素\")\n",
    "    \n",
    "    dl_tags = board_infos.find_all('dl')\n",
    "    for dl in dl_tags:\n",
    "        dt_text = dl.find('dt').get_text(strip=True)\n",
    "        dd_text = dl.find('dd').get_text(strip=True)\n",
    "        # 根据内容判断是否转换为数值类型\n",
    "        if '%' in dd_text:\n",
    "            result[dt_text] = dd_text\n",
    "        else:\n",
    "            result[dt_text] = float(dd_text)\n",
    "    \n",
    "    return result"
   ]
  },
  {
   "cell_type": "code",
   "execution_count": 23,
   "id": "5164d572-51b2-4df9-99c6-3a45c5a7d7a8",
   "metadata": {},
   "outputs": [
    {
     "name": "stdout",
     "output_type": "stream",
     "text": [
      "https://q.10jqka.com.cn/zs/detail/code/1A0001/\n",
      "https://q.10jqka.com.cn/zs/detail/code/399001/\n",
      "https://q.10jqka.com.cn/zs/detail/code/399300/\n",
      "https://q.10jqka.com.cn/zs/detail/code/399006/\n"
     ]
    }
   ],
   "source": [
    "url = 'https://q.10jqka.com.cn/zs/detail/code/1A0001/'\n",
    "url = 'https://q.10jqka.com.cn/zs/detail/code/399001/'\n",
    "url = 'https://q.10jqka.com.cn/zs/detail/code/399300/'\n",
    "url = 'https://q.10jqka.com.cn/zs/detail/code/399006/'\n",
    "\n",
    "codes  = ('1A0001','399001','399300','399006')\n",
    "marktet_hq = [ extract_stock_data_hs(_make_request(f'https://q.10jqka.com.cn/zs/detail/code/{code}/')) for code in codes]"
   ]
  },
  {
   "cell_type": "code",
   "execution_count": 24,
   "id": "b922be17-2232-419c-bb33-9a2ef0c80270",
   "metadata": {},
   "outputs": [
    {
     "data": {
      "text/plain": [
       "[{'指数名称': '上证指数',\n",
       "  '指数代码': '000001',\n",
       "  '当前指数': 3573.21,\n",
       "  '涨跌': -42.51,\n",
       "  '今开': 3604.7,\n",
       "  '昨收': 3615.72,\n",
       "  '最低': 3562.61,\n",
       "  '最高': 3606.37,\n",
       "  '成交量(万手)': 65450.9,\n",
       "  '指数涨幅': '-1.18%',\n",
       "  '成交额(亿)': 8458.93},\n",
       " {'指数名称': '深证成指',\n",
       "  '指数代码': '399001',\n",
       "  '当前指数': 11009.77,\n",
       "  '涨跌': -193.26,\n",
       "  '今开': 11208.46,\n",
       "  '昨收': 11203.03,\n",
       "  '最低': 10976.21,\n",
       "  '最高': 11223.64,\n",
       "  '成交量(万手)': 74131.1,\n",
       "  '指数涨幅': '-1.73%',\n",
       "  '成交额(亿)': 10901.4},\n",
       " {'指数名称': '沪深300',\n",
       "  '指数代码': '399300',\n",
       "  '当前指数': 4075.59,\n",
       "  '涨跌': -75.65,\n",
       "  '今开': 4141.56,\n",
       "  '昨收': 4151.24,\n",
       "  '最低': 4063.67,\n",
       "  '最高': 4141.82,\n",
       "  '成交量(万手)': 26708.7,\n",
       "  '指数涨幅': '-1.82%',\n",
       "  '成交额(亿)': 4921.43},\n",
       " {'指数名称': '创业板指',\n",
       "  '指数代码': '399006',\n",
       "  '当前指数': 2328.31,\n",
       "  '涨跌': -39.37,\n",
       "  '今开': 2382.97,\n",
       "  '昨收': 2367.68,\n",
       "  '最低': 2321.72,\n",
       "  '最高': 2394.22,\n",
       "  '成交量(万手)': 25898.7,\n",
       "  '指数涨幅': '-1.66%',\n",
       "  '成交额(亿)': 5443.91}]"
      ]
     },
     "execution_count": 24,
     "metadata": {},
     "output_type": "execute_result"
    }
   ],
   "source": [
    "marktet_hq"
   ]
  },
  {
   "cell_type": "code",
   "execution_count": null,
   "id": "b43017af-e028-4249-90a5-cc1aef7f517c",
   "metadata": {},
   "outputs": [],
   "source": []
  }
 ],
 "metadata": {
  "kernelspec": {
   "display_name": "Python 3 (ipykernel)",
   "language": "python",
   "name": "python3"
  },
  "language_info": {
   "codemirror_mode": {
    "name": "ipython",
    "version": 3
   },
   "file_extension": ".py",
   "mimetype": "text/x-python",
   "name": "python",
   "nbconvert_exporter": "python",
   "pygments_lexer": "ipython3",
   "version": "3.13.5"
  }
 },
 "nbformat": 4,
 "nbformat_minor": 5
}
