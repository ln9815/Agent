{
 "cells": [
  {
   "cell_type": "code",
   "execution_count": 48,
   "id": "d449cf26-fd58-420a-ba7a-39205b1fb62f",
   "metadata": {},
   "outputs": [
    {
     "data": {
      "text/plain": [
       "{'stock_code': '02018', 'stock_name': '瑞声科技', 'stock_market': '港股'}"
      ]
     },
     "execution_count": 48,
     "metadata": {},
     "output_type": "execute_result"
    }
   ],
   "source": [
    "import requests\n",
    "import json\n",
    "\n",
    "def _parse_stock_string(stock_str):\n",
    "    # 定义已知市场类型（可扩展）\n",
    "    known_markets = {\"港股\", \"美股\", \"股票\", \"A股\"}\n",
    "    parts = stock_str.split()\n",
    "    if len(parts) < 3:\n",
    "        return None  \n",
    "    code_part = parts[0]\n",
    "    if \"||\" in code_part:\n",
    "        stock_code = code_part.split(\"||\")[-1]\n",
    "    else:\n",
    "        stock_code = code_part\n",
    "    stock_market = 'A股' if parts[-1] =='股票' else parts[-1]\n",
    "    stock_name = parts[1]\n",
    "\n",
    "    return {\n",
    "        \"stock_code\": stock_code,\n",
    "        \"stock_name\": stock_name,\n",
    "        \"stock_market\": stock_market\n",
    "    }\n",
    "\n",
    "def _parse_stock_data(json_data):\n",
    "    results = []\n",
    "    for sublist in json_data:\n",
    "        if not isinstance(sublist, list):\n",
    "            continue\n",
    "            \n",
    "        for stock_str in sublist:\n",
    "            if not isinstance(stock_str, str):\n",
    "                continue\n",
    "                \n",
    "            stock_info = _parse_stock_string(stock_str)\n",
    "            if stock_info:\n",
    "                results.append(stock_info)\n",
    "    \n",
    "    return results[0] if len(results) > 0 else []\n",
    "\n",
    "def parse_stock_input(input):\n",
    "    url = f'https://news.10jqka.com.cn/public/index_keyboard_{input.strip()}_stock,hk,usa_5_jsonp.html'\n",
    "    headers = {\n",
    "        \"referer\": \"https://stockpage.10jqka.com.cn/\",\n",
    "        \"user-agent\": \"Mozilla/5.0 (Macintosh; Intel Mac OS X 10_15_7) AppleWebKit/537.36 (KHTML, like Gecko) Chrome/136.0.0.0 Safari/537.36\"\n",
    "    }\n",
    "    \n",
    "    response = requests.get(url, headers=headers)\n",
    "    jsonp_data = response.text\n",
    "    if jsonp_data.startswith('jsonp(') and jsonp_data.endswith(')'):\n",
    "        json_str = jsonp_data[6:-1]  \n",
    "    else:\n",
    "        json_str = jsonp_data\n",
    "    parsed_data = json.loads(json_str)\n",
    "    standard_json = json.dumps(parsed_data, ensure_ascii=False, indent=2)\n",
    "    data = json.loads(standard_json)\n",
    "    return _parse_stock_data(data)\n",
    "parse_stock_input('HK2018')"
   ]
  },
  {
   "cell_type": "code",
   "execution_count": null,
   "id": "94720fa1-d0c1-4b36-9e60-97d6b215829c",
   "metadata": {},
   "outputs": [],
   "source": []
  }
 ],
 "metadata": {
  "kernelspec": {
   "display_name": "Python 3 (ipykernel)",
   "language": "python",
   "name": "python3"
  },
  "language_info": {
   "codemirror_mode": {
    "name": "ipython",
    "version": 3
   },
   "file_extension": ".py",
   "mimetype": "text/x-python",
   "name": "python",
   "nbconvert_exporter": "python",
   "pygments_lexer": "ipython3",
   "version": "3.13.5"
  }
 },
 "nbformat": 4,
 "nbformat_minor": 5
}
