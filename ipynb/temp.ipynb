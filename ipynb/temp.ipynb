{
 "cells": [
  {
   "cell_type": "code",
   "execution_count": 21,
   "id": "5635654e-9c33-46e6-a403-6b4dc1c1f145",
   "metadata": {},
   "outputs": [
    {
     "name": "stdout",
     "output_type": "stream",
     "text": [
      "2025-07-30 23:37:43.258835\n"
     ]
    },
    {
     "data": {
      "text/plain": [
       "datetime.datetime(2024, 11, 30, 19, 21)"
      ]
     },
     "execution_count": 21,
     "metadata": {},
     "output_type": "execute_result"
    }
   ],
   "source": [
    "time_str = \"11-30 19:21\"\n",
    "# time_str = \"8/11\"\n",
    "# time_str = \"2025-06-09\"\n",
    "# 当前日期（2025年7月30日）\n",
    "def convert_datetime(date_str):\n",
    "    from datetime import datetime\n",
    "    print(datetime.now())\n",
    "    current_year,current_month, current_day= datetime.now().year,datetime.now().month,datetime.now().day\n",
    "    \n",
    "    # 处理三种格式\n",
    "    if ' ' in time_str:  # 格式 \"07-30 19:21\"\n",
    "        date_part, time_part = time_str.split(' ')\n",
    "        month, day = map(int, date_part.split('-'))\n",
    "        hour, minute = map(int, time_part.split(':'))\n",
    "    elif '/' in time_str:  # 格式 \"07/31\"\n",
    "        month, day = map(int, time_str.split('/'))\n",
    "        hour, minute = 0, 0\n",
    "    elif '-' in time_str and len(time_str) == 10:  # 格式 \"2025-06-09\"\n",
    "        _, month, day = time_str.split('-')\n",
    "        month, day = int(month), int(day)\n",
    "        hour, minute = 0, 0\n",
    "    else:\n",
    "        raise ValueError(\"Unsupported time format\")\n",
    "    \n",
    "    # 判断年份：如果月日大于当前月日，则用上一年\n",
    "    if (month, day) > (current_month, current_day):\n",
    "        year = current_year - 1\n",
    "    else:\n",
    "        year = current_year\n",
    "    \n",
    "    return datetime.strptime(f\"{year:04d}-{month:02d}-{day:02d} {hour:02d}:{minute:02d}\", \"%Y-%m-%d %H:%M\")"
   ]
  },
  {
   "cell_type": "code",
   "execution_count": 11,
   "id": "12424422-070e-42b3-98e6-b086b21307eb",
   "metadata": {},
   "outputs": [
    {
     "ename": "NameError",
     "evalue": "name 'data' is not defined",
     "output_type": "error",
     "traceback": [
      "\u001b[31m---------------------------------------------------------------------------\u001b[39m",
      "\u001b[31mNameError\u001b[39m                                 Traceback (most recent call last)",
      "\u001b[36mCell\u001b[39m\u001b[36m \u001b[39m\u001b[32mIn[11]\u001b[39m\u001b[32m, line 1\u001b[39m\n\u001b[32m----> \u001b[39m\u001b[32m1\u001b[39m (\u001b[38;5;28mlen\u001b[39m(\u001b[43mdata\u001b[49m[\u001b[33m'\u001b[39m\u001b[33msortYear\u001b[39m\u001b[33m'\u001b[39m]),\u001b[38;5;28mlen\u001b[39m(data[\u001b[33m'\u001b[39m\u001b[33mprice\u001b[39m\u001b[33m'\u001b[39m])/\u001b[38;5;28mlen\u001b[39m(data[\u001b[33m'\u001b[39m\u001b[33mafterVolumn\u001b[39m\u001b[33m'\u001b[39m]),\u001b[38;5;28mlen\u001b[39m(data[\u001b[33m'\u001b[39m\u001b[33mvolumn\u001b[39m\u001b[33m'\u001b[39m])/\u001b[38;5;28mlen\u001b[39m(data[\u001b[33m'\u001b[39m\u001b[33mafterVolumn\u001b[39m\u001b[33m'\u001b[39m]),\u001b[38;5;28mlen\u001b[39m(data[\u001b[33m'\u001b[39m\u001b[33mafterVolumn\u001b[39m\u001b[33m'\u001b[39m])/\u001b[38;5;28mlen\u001b[39m(data[\u001b[33m'\u001b[39m\u001b[33mafterVolumn\u001b[39m\u001b[33m'\u001b[39m]),\u001b[38;5;28mlen\u001b[39m(data[\u001b[33m'\u001b[39m\u001b[33mdates\u001b[39m\u001b[33m'\u001b[39m])/\u001b[38;5;28mlen\u001b[39m(data[\u001b[33m'\u001b[39m\u001b[33mafterVolumn\u001b[39m\u001b[33m'\u001b[39m]))\n",
      "\u001b[31mNameError\u001b[39m: name 'data' is not defined"
     ]
    }
   ],
   "source": [
    "(len(data['sortYear']),len(data['price'])/len(data['afterVolumn']),len(data['volumn'])/len(data['afterVolumn']),len(data['afterVolumn'])/len(data['afterVolumn']),len(data['dates'])/len(data['afterVolumn']))"
   ]
  },
  {
   "cell_type": "code",
   "execution_count": 99,
   "id": "df3a6da0-63d4-4b81-9d5f-47d3b9ca3efc",
   "metadata": {},
   "outputs": [],
   "source": [
    "dates = []\n",
    "date_parts = data[\"dates\"].split(\",\")\n",
    "current_index = 0\n",
    "\n",
    "for year, count in data[\"sortYear\"]:\n",
    "    # 计算当前年份对应的日期片段范围\n",
    "    start_idx = current_index\n",
    "    end_idx = current_index + count\n",
    "    \n",
    "    # 提取对应的日期片段并与年份组合\n",
    "    parts_for_year = date_parts[start_idx:end_idx]\n",
    "    full_dates = [f\"{year}{part}\" for part in parts_for_year]\n",
    "    \n",
    "    # 更新索引并扩展结果列表\n",
    "    current_index = end_idx\n",
    "    dates.extend(full_dates)\n",
    "reversed_dates = dates[::-1]\n",
    "\n",
    "price_list = data['price'].split(',')\n",
    "prices = [\n",
    "    { \n",
    "        \"open\": (float(v[1]) + float(v[0]))/1000,\n",
    "        \"close\": (float(v[3]) + float(v[0]))/1000,\n",
    "        \"high\": (float(v[2]) + float(v[0]))/1000,\n",
    "        \"low\": float(v[0])/1000\n",
    "    } \n",
    "    for v in [tuple(price_list[i:i+4]) for i in range(0, len(price_list), 4)]\n",
    "]\n",
    "reversed_prices = prices[::-1]\n",
    "\n",
    "volumn = data[\"volumn\"].split(\",\")\n",
    "reversed_volumn = volumn[::-1]\n",
    "\n",
    "min_length = min(len(reversed_prices), len(reversed_dates), len(reversed_volumn))\n",
    "merged_data = [\n",
    "    {\n",
    "        \"date\": reversed_dates[i],\n",
    "        \"volumn\": reversed_volumn[i],\n",
    "        **reversed_prices[i]  # 合并价格字典中的键值对\n",
    "    }\n",
    "    for i in range(0, min_length)\n",
    "]"
   ]
  },
  {
   "cell_type": "code",
   "execution_count": 96,
   "id": "b98f2d85-165d-4cc6-bd32-ad950adbfa00",
   "metadata": {},
   "outputs": [
    {
     "name": "stdout",
     "output_type": "stream",
     "text": [
      "4914 4914 4914\n"
     ]
    }
   ],
   "source": [
    "print(len(reversed_prices), len(reversed_dates), len(reversed_volumn))"
   ]
  },
  {
   "cell_type": "code",
   "execution_count": 97,
   "id": "177b5f90-d3e0-4175-8b90-6ada29409634",
   "metadata": {},
   "outputs": [],
   "source": []
  },
  {
   "cell_type": "code",
   "execution_count": 100,
   "id": "a28db641-faf2-4c1f-bacf-7e503be22c9f",
   "metadata": {},
   "outputs": [
    {
     "data": {
      "text/plain": [
       "{'date': '20250721',\n",
       " 'volumn': '7735170',\n",
       " 'open': 40.95,\n",
       " 'close': 39.9,\n",
       " 'high': 41.35,\n",
       " 'low': 39.6}"
      ]
     },
     "execution_count": 100,
     "metadata": {},
     "output_type": "execute_result"
    }
   ],
   "source": [
    "merged_data[0]"
   ]
  },
  {
   "cell_type": "code",
   "execution_count": 69,
   "id": "a1a27edc-fa51-4d0d-a6c2-f90d59963b0a",
   "metadata": {},
   "outputs": [
    {
     "name": "stdout",
     "output_type": "stream",
     "text": [
      "0\n",
      "1\n",
      "2\n",
      "3\n",
      "4\n"
     ]
    }
   ],
   "source": [
    "for x in range(0,5):\n",
    " print(x)"
   ]
  },
  {
   "cell_type": "code",
   "execution_count": 77,
   "id": "e8f744e4-76bc-43e8-8b19-83d4f6e213f2",
   "metadata": {},
   "outputs": [
    {
     "data": {
      "text/plain": [
       "({'open': -8.589, 'close': -8.289, 'high': -8.164, 'low': -8.589},\n",
       " '20050809',\n",
       " 4914,\n",
       " 4893,\n",
       " 4914,\n",
       " 4893)"
      ]
     },
     "execution_count": 77,
     "metadata": {},
     "output_type": "execute_result"
    }
   ],
   "source": [
    "reversed_prices[0],reversed_dates[0],len(reversed_prices),len(reversed_dates),len(grouped_prices),len(dates)"
   ]
  },
  {
   "cell_type": "code",
   "execution_count": 47,
   "id": "dcc4b7ea-049f-49bd-85bf-3ed47426fce3",
   "metadata": {},
   "outputs": [
    {
     "data": {
      "text/plain": [
       "range(0, 4893)"
      ]
     },
     "execution_count": 47,
     "metadata": {},
     "output_type": "execute_result"
    }
   ],
   "source": [
    "range(cnt_min)"
   ]
  },
  {
   "cell_type": "code",
   "execution_count": 22,
   "id": "7f89963a-3cfa-4193-a315-b1f5cd8d2f5e",
   "metadata": {},
   "outputs": [
    {
     "data": {
      "text/plain": [
       "41350"
      ]
     },
     "execution_count": 22,
     "metadata": {},
     "output_type": "execute_result"
    }
   ],
   "source": [
    "# 39600,1350,1750,300\n",
    "# 最低，今开（最低+该值）,最高（最低+该值），今收（最低+300）\n",
    "l = 39600\n",
    "o = l+ 1350\n",
    "h\n",
    "c = l + 300\n",
    "# 7735170  成交量\n",
    "39600 + 1750\n",
    "# 40500,1250,1800,300,\n"
   ]
  },
  {
   "cell_type": "code",
   "execution_count": 10,
   "id": "cb712771-d3db-4d6c-9084-0eeacba2f623",
   "metadata": {},
   "outputs": [],
   "source": [
    "v = (39600,1350,1750,300)\n",
    "l, o, h , c = v[0],v[0] + v[1], v[0] + v[2], v[0] + v[3]"
   ]
  },
  {
   "cell_type": "code",
   "execution_count": 11,
   "id": "62cca177-365b-4757-8b35-aeea8129e13a",
   "metadata": {},
   "outputs": [
    {
     "data": {
      "text/plain": [
       "(39600, 40950, 41350, 39900)"
      ]
     },
     "execution_count": 11,
     "metadata": {},
     "output_type": "execute_result"
    }
   ],
   "source": [
    "l, o, h , c "
   ]
  },
  {
   "cell_type": "code",
   "execution_count": 12,
   "id": "f0ae9518-8a2c-4ada-8ef8-b1fc75aeaf32",
   "metadata": {},
   "outputs": [
    {
     "data": {
      "text/plain": [
       "(40950, 39900, 41350, 39600)"
      ]
     },
     "execution_count": 12,
     "metadata": {},
     "output_type": "execute_result"
    }
   ],
   "source": [
    "o,c,h,l"
   ]
  },
  {
   "cell_type": "code",
   "execution_count": null,
   "id": "fc05cb5e-4e61-45d9-bfc1-32c7bcdd2faa",
   "metadata": {},
   "outputs": [],
   "source": []
  }
 ],
 "metadata": {
  "kernelspec": {
   "display_name": "Python 3 (ipykernel)",
   "language": "python",
   "name": "python3"
  },
  "language_info": {
   "codemirror_mode": {
    "name": "ipython",
    "version": 3
   },
   "file_extension": ".py",
   "mimetype": "text/x-python",
   "name": "python",
   "nbconvert_exporter": "python",
   "pygments_lexer": "ipython3",
   "version": "3.13.5"
  }
 },
 "nbformat": 4,
 "nbformat_minor": 5
}
